{
  "nbformat": 4,
  "nbformat_minor": 0,
  "metadata": {
    "colab": {
      "provenance": []
    },
    "kernelspec": {
      "name": "python3",
      "display_name": "Python 3"
    },
    "language_info": {
      "name": "python"
    }
  },
  "cells": [
    {
      "cell_type": "markdown",
      "source": [
        "Taken direclty from the TensorFlow documentation (https://www.tensorflow.org/probability/api_docs/python/tfp/distributions/HiddenMarkovModel).\n",
        "\n",
        "We will model a simple weather system and try to predict the temperature on each day given the following information.\n",
        "\n",
        "Cold days are encoded by a 0 and hot days are encoded by a 1.\n",
        "The first day in our sequence has an 80% chance of being cold.\n",
        "A cold day has a 30% chance of being followed by a hot day.\n",
        "A hot day has a 20% chance of being followed by a cold day.\n",
        "On each day the temperature is normally distributed with mean and standard deviation 0 and 5 on a cold day and mean and standard deviation 15 and 10 on a hot day.\n",
        "If you're unfamiliar with standard deviation it can be put simply as the range of expected values.\n",
        "\n",
        "In this example, on a hot day the average temperature is 15 and ranges from 5 to 25.\n",
        "\n",
        "\n",
        "\n",
        "Certainly! Let's break down the transition distributions in the context of a Hidden Markov Model (HMM) for weather forecasting:\n",
        "\n",
        "1. **Initial Distribution (`initial_distribution`):**\n",
        "   - The initial distribution represents the probabilities of starting in each state (cold or hot) on the first day.\n",
        "   - In this example, `probs=[0.2, 0.8]` means there is a 20% chance of starting in the cold state and an 80% chance of starting in the hot state.\n",
        "\n",
        "2. **Transition Distribution (`transition_distribution`):**\n",
        "   - The transition distribution represents the probabilities of transitioning from one state to another on subsequent days.\n",
        "   - In this case, `probs=[[0.3, 0.7], [0.2, 0.8]]` means:\n",
        "      - Given a cold day (state 0), there is a 30% chance of transitioning to a hot day (state 1) and a 70% chance of staying cold.\n",
        "      - Given a hot day (state 1), there is a 20% chance of transitioning to a cold day (state 0) and an 80% chance of staying hot.\n",
        "   - These probabilities dictate the likelihood of the weather changing from one day to the next.\n",
        "\n",
        "3. **Observation Distribution (`observation_distribution`):**\n",
        "   - The observation distribution defines the likelihood of observing a particular temperature on a given day, conditioned on the current weather state.\n",
        "   - In this example, it's a normal distribution with mean and standard deviation parameters.\n",
        "   - For a cold day (state 0), the temperature is normally distributed with mean 0 and standard deviation 5.\n",
        "   - For a hot day (state 1), the temperature is normally distributed with mean 15 and standard deviation 10.\n",
        "\n",
        "In summary, the initial distribution sets the starting conditions, the transition distribution models the probabilities of transitioning between weather states each day, and the observation distribution models the likelihood of observing temperatures given the current weather state. Together, these components form a Hidden Markov Model for weather forecasting."
      ],
      "metadata": {
        "id": "tnJcJFSFstNH"
      }
    },
    {
      "cell_type": "code",
      "execution_count": null,
      "metadata": {
        "id": "CsdT3HpJr1j1"
      },
      "outputs": [],
      "source": [
        "!pip install tensorflow==2.15.0 --user --upgrade\n",
        "!pip install tensorflow-probability --user --upgrade\n",
        "\n",
        "\n",
        "\n",
        "import tensorflow as tf\n",
        "import tensorflow_probability as tfp\n",
        "print(tfp.__version__)\n",
        "\n",
        "\n",
        "tfd = tfp.distributions\n",
        "\n",
        "def generate_weather_forecast(model, num_steps):\n",
        "    temperatures = []\n",
        "\n",
        "    # Sample from the Hidden Markov Model for each day\n",
        "    samples = model.sample(num_steps)\n",
        "\n",
        "    # Extract temperature values from the samples\n",
        "    for step in range(num_steps):\n",
        "        temperature = samples[step, 1]  # Index 1 corresponds to the temperature in the observation distribution\n",
        "        temperatures.append(temperature)\n",
        "\n",
        "    return temperatures\n",
        "\n",
        "\n",
        "initial_distribution = tfd.Categorical(probs=[0.2, 0.8])\n",
        "transition_distribution = tfd.Categorical(probs=[[0.3, 0.7], [0.2, 0.8]])\n",
        "observation_distribution = tfd.Normal(loc=[0., 15], scale=[5., 10])\n",
        "\n",
        "model = tfd.HiddenMarkovModel(\n",
        "    initial_distribution=initial_distribution,\n",
        "    transition_distribution=transition_distribution,\n",
        "    observation_distribution=observation_distribution,\n",
        "    num_steps=7\n",
        ")\n",
        "\n",
        "# Generate weather forecast for 7 days\n",
        "forecast = generate_weather_forecast(model, num_steps=7)\n",
        "\n",
        "print(\"Predicted temperatures for the next 7 days:\")\n",
        "print(forecast)\n"
      ]
    },
    {
      "cell_type": "markdown",
      "source": [
        "***About this code***\n",
        "\n",
        "1. **Installing Required Packages:**\n",
        "   - Installs specific versions of TensorFlow (2.15.0) and TensorFlow Probability using pip.\n",
        "\n",
        "2. **Importing Libraries:**\n",
        "   - Imports TensorFlow as `tf` and TensorFlow Probability as `tfp`.\n",
        "   - Prints the version of TensorFlow Probability.\n",
        "\n",
        "3. **Alias for TensorFlow Probability Distributions Module:**\n",
        "   - Creates an alias (`tfd`) for the TensorFlow Probability distributions module for easier reference.\n",
        "\n",
        "4. **Function to Generate Weather Forecast:**\n",
        "   - Defines a function (`generate_weather_forecast`) to generate a weather forecast.\n",
        "   - Takes a Hidden Markov Model (`model`) and the number of steps (`num_steps`) as input.\n",
        "   - Samples from the model for each day and extracts temperature values.\n",
        "\n",
        "5. **Definition of Distributions for Hidden Markov Model:**\n",
        "   - Specifies the initial, transition, and observation distributions for the Hidden Markov Model.\n",
        "\n",
        "6. **Hidden Markov Model Creation:**\n",
        "   - Creates a HiddenMarkovModel using the defined distributions with 7 steps (representing 7 days).\n",
        "\n",
        "7. **Generating Weather Forecast for 7 Days:**\n",
        "   - Calls the `generate_weather_forecast` function to obtain predicted temperatures for the next 7 days.\n",
        "\n",
        "8. **Printing Predicted Temperatures:**\n",
        "   - Displays the predicted temperatures for the next 7 days.\n",
        "\n",
        "\n",
        "\n"
      ],
      "metadata": {
        "id": "r8FnkpxDs1sM"
      }
    },
    {
      "cell_type": "code",
      "source": [],
      "metadata": {
        "id": "YgodpS3Fs2S2"
      },
      "execution_count": null,
      "outputs": []
    }
  ]
}